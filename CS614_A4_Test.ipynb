{
  "nbformat": 4,
  "nbformat_minor": 0,
  "metadata": {
    "colab": {
      "provenance": []
    },
    "kernelspec": {
      "name": "python3",
      "display_name": "Python 3"
    },
    "language_info": {
      "name": "python"
    }
  },
  "cells": [
    {
      "cell_type": "markdown",
      "source": [
        "**Setup**"
      ],
      "metadata": {
        "id": "pEhRnkTkBO9f"
      }
    },
    {
      "cell_type": "markdown",
      "source": [
        "Installs"
      ],
      "metadata": {
        "id": "PhSR_7KnJYCK"
      }
    },
    {
      "cell_type": "code",
      "source": [
        "!pip install swig\n",
        "!pip install \"stable-baselines3[extra]>=2.0.0a4\"\n",
        "!pip install box2d-py\n",
        "!apt-get update && apt-get install ffmpeg freeglut3-dev xvfb  # For visualization"
      ],
      "metadata": {
        "id": "CxdB7WCD8iyV"
      },
      "execution_count": null,
      "outputs": []
    },
    {
      "cell_type": "markdown",
      "source": [
        "Function to download Google Drive files to notebook's filesystem, so they can be easily accessed"
      ],
      "metadata": {
        "id": "NkWai82OABoA"
      }
    },
    {
      "cell_type": "code",
      "source": [
        "import requests\n",
        "\n",
        "def download_drive_file(file_name, path):\n",
        "  request = requests.get(path)\n",
        "  with open(file_name, \"wb\") as file:\n",
        "    file.write(request.content)"
      ],
      "metadata": {
        "id": "HaruyBlX8Fq8"
      },
      "execution_count": 2,
      "outputs": []
    },
    {
      "cell_type": "markdown",
      "source": [
        "Create folder to hold example videos (and json files)"
      ],
      "metadata": {
        "id": "SveozBdwI9cr"
      }
    },
    {
      "cell_type": "code",
      "source": [
        "import os\n",
        "\n",
        "example_videos_path = \"videos\"\n",
        "if os.path.isdir(example_videos_path) == False:\n",
        "  os.mkdir(example_videos_path)"
      ],
      "metadata": {
        "id": "dVeP6keiFetF"
      },
      "execution_count": 4,
      "outputs": []
    },
    {
      "cell_type": "markdown",
      "source": [
        "Downloads my DQN model and example episodes video"
      ],
      "metadata": {
        "id": "XQ4k2yHP_r18"
      }
    },
    {
      "cell_type": "code",
      "execution_count": 5,
      "metadata": {
        "id": "7bx4sO7867df"
      },
      "outputs": [],
      "source": [
        "from genericpath import isfile\n",
        "import os\n",
        "\n",
        "model_file_name = \"dqn_lunarlander.zip\"\n",
        "model_id = \"1q9KU8-eWSwOjtmX9h4grCFIry7usrupT\"\n",
        "if os.path.isfile(model_file_name) == False:\n",
        "  download_drive_file(model_file_name, f\"https://drive.google.com/uc?export=download&id={model_id}\")\n",
        "\n",
        "example_video_file_name = \"ag-example-lunarlander-video-0-5000.mp4\"\n",
        "example_video_id = \"1i4Lj9-_SThtRyNwHTsr43dS6MpcOLiOf\"\n",
        "file_path = os.path.join(example_videos_path, example_video_file_name)\n",
        "if os.path.isfile(file_path) == False:\n",
        "  download_drive_file(file_path, f\"https://drive.google.com/uc?export=download&id={example_video_id}\")\n",
        "\n",
        "example_json_file_name = \"ag-example-lunarlander-json-0-5000.json\"\n",
        "example_json_id = \"1-W5FRZONrwT0OrM2CE6Yjk7A2V-bbe9w\"\n",
        "file_path = os.path.join(example_videos_path, example_json_file_name)\n",
        "if os.path.isfile(file_path) == False:\n",
        "  download_drive_file(file_path, f\"https://drive.google.com/uc?export=download&id={example_json_id}\")"
      ]
    },
    {
      "cell_type": "markdown",
      "source": [
        "**Test**"
      ],
      "metadata": {
        "id": "MsozWtvgRJ-E"
      }
    },
    {
      "cell_type": "markdown",
      "source": [
        "Create Test Environment"
      ],
      "metadata": {
        "id": "uk7DMuwOAip3"
      }
    },
    {
      "cell_type": "code",
      "source": [
        "import gymnasium as gym\n",
        "\n",
        "env = gym.make(\"LunarLander-v2\", render_mode=\"rgb_array\")"
      ],
      "metadata": {
        "id": "mWE-vY08RnZT"
      },
      "execution_count": 6,
      "outputs": []
    },
    {
      "cell_type": "markdown",
      "source": [
        "Load My Model"
      ],
      "metadata": {
        "id": "gABxVbQXRvHx"
      }
    },
    {
      "cell_type": "code",
      "source": [
        "from stable_baselines3 import DQN\n",
        "\n",
        "model = DQN.load(\"dqn_lunarlander\", env=env)"
      ],
      "metadata": {
        "id": "od1caQ-EL0Ul"
      },
      "execution_count": null,
      "outputs": []
    },
    {
      "cell_type": "markdown",
      "source": [
        "Evaluation"
      ],
      "metadata": {
        "id": "e_uIJoyBSZ4V"
      }
    },
    {
      "cell_type": "code",
      "source": [
        "import numpy as np\n",
        "\n",
        "def evaluate(model, num_episodes=100, deterministic=True):\n",
        "    vec_env = model.get_env()\n",
        "    all_episode_rewards = []\n",
        "    for i in range(num_episodes):\n",
        "        episode_rewards = []\n",
        "        done = False\n",
        "        obs = vec_env.reset()\n",
        "        while not done:\n",
        "            action, _ = model.predict(obs, deterministic=deterministic)\n",
        "            obs, reward, done, info = vec_env.step(action)\n",
        "            episode_rewards.append(reward)\n",
        "\n",
        "        all_episode_rewards.append(sum(episode_rewards))\n",
        "        # print(i) # Comment this back in to track the evaluation progress\n",
        "\n",
        "    mean_episode_reward = np.mean(all_episode_rewards)\n",
        "    print(\"Num Episodes:\", num_episodes)\n",
        "    print(\"Mean Reward:\", mean_episode_reward)\n",
        "\n",
        "    return mean_episode_reward"
      ],
      "metadata": {
        "id": "pAiUYSHBSdV0"
      },
      "execution_count": null,
      "outputs": []
    },
    {
      "cell_type": "code",
      "source": [
        "evaluate(model)"
      ],
      "metadata": {
        "id": "9jVMd5p0TV68"
      },
      "execution_count": null,
      "outputs": []
    },
    {
      "cell_type": "markdown",
      "source": [
        "**Test Examples**"
      ],
      "metadata": {
        "id": "WB_s6cWLLTUv"
      }
    },
    {
      "cell_type": "markdown",
      "source": [
        "Display"
      ],
      "metadata": {
        "id": "S45qAC0iLR-i"
      }
    },
    {
      "cell_type": "code",
      "source": [
        "os.system(\"Xvfb :1 -screen 0 1024x768x24 &\")\n",
        "os.environ['DISPLAY'] = ':1'"
      ],
      "metadata": {
        "id": "GIHTjUhxFbD4"
      },
      "execution_count": 8,
      "outputs": []
    },
    {
      "cell_type": "markdown",
      "source": [
        "`show_videos` is a function that plays the video(s)"
      ],
      "metadata": {
        "id": "78SPM9C2raO-"
      }
    },
    {
      "cell_type": "code",
      "source": [
        "import base64\n",
        "from pathlib import Path\n",
        "\n",
        "from IPython import display as ipythondisplay\n",
        "\n",
        "\n",
        "def show_videos(video_path=\"\", prefix=\"\"):\n",
        "    html = []\n",
        "    for mp4 in Path(video_path).glob(\"{}*.mp4\".format(prefix)):\n",
        "        video_b64 = base64.b64encode(mp4.read_bytes())\n",
        "        html.append(\n",
        "            \"\"\"<video alt=\"{}\" autoplay\n",
        "                    loop controls style=\"height: 400px;\">\n",
        "                    <source src=\"data:video/mp4;base64,{}\" type=\"video/mp4\" />\n",
        "                </video>\"\"\".format(\n",
        "                mp4, video_b64.decode(\"ascii\")\n",
        "            )\n",
        "        )\n",
        "    ipythondisplay.display(ipythondisplay.HTML(data=\"<br>\".join(html)))"
      ],
      "metadata": {
        "id": "5C0DUF13JSdN"
      },
      "execution_count": 9,
      "outputs": []
    },
    {
      "cell_type": "markdown",
      "source": [
        "Display my examples video"
      ],
      "metadata": {
        "id": "TuKTOogpqkOo"
      }
    },
    {
      "cell_type": "code",
      "source": [
        "show_videos(\"videos\", prefix=\"ag\")"
      ],
      "metadata": {
        "id": "6xV10TlKI1dX"
      },
      "execution_count": null,
      "outputs": []
    },
    {
      "cell_type": "markdown",
      "source": [
        "`record_video` is a function that runs the model and records the output as a video"
      ],
      "metadata": {
        "id": "kHt76SrNrpIc"
      }
    },
    {
      "cell_type": "code",
      "source": [
        "from stable_baselines3.common.vec_env import VecVideoRecorder, DummyVecEnv\n",
        "\n",
        "def record_video(env_id, model, video_length=500, prefix=\"\", video_folder=\"videos/\"):\n",
        "    eval_env = DummyVecEnv([lambda: gym.make(\"LunarLander-v2\", render_mode=\"rgb_array\")])\n",
        "    eval_env = VecVideoRecorder(\n",
        "        eval_env,\n",
        "        video_folder=video_folder,\n",
        "        record_video_trigger=lambda step: step == 0,\n",
        "        video_length=video_length,\n",
        "        name_prefix=prefix,\n",
        "    )\n",
        "\n",
        "    obs = eval_env.reset()\n",
        "    for _ in range(video_length):\n",
        "        action, _ = model.predict(obs)\n",
        "        obs, _, _, _ = eval_env.step(action)\n",
        "\n",
        "    eval_env.close()"
      ],
      "metadata": {
        "id": "UGF8BDAwxewb"
      },
      "execution_count": null,
      "outputs": []
    },
    {
      "cell_type": "markdown",
      "source": [
        "Record and display your own example episodes, feel free to change the `video_length`."
      ],
      "metadata": {
        "id": "3m8J9Gb0tOze"
      }
    },
    {
      "cell_type": "code",
      "source": [
        "prefix = \"new-example\"\n",
        "record_video(\"lunarlander-v2\", model, video_length=1500, prefix=prefix)\n",
        "show_videos(\"videos\", prefix=prefix)"
      ],
      "metadata": {
        "id": "16r4ogsNxhJq"
      },
      "execution_count": null,
      "outputs": []
    }
  ]
}