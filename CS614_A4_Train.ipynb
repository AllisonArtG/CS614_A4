{
  "nbformat": 4,
  "nbformat_minor": 0,
  "metadata": {
    "colab": {
      "provenance": [],
      "gpuType": "T4"
    },
    "kernelspec": {
      "name": "python3",
      "display_name": "Python 3"
    },
    "language_info": {
      "name": "python"
    }
  },
  "cells": [
    {
      "cell_type": "markdown",
      "source": [
        "**Setup**"
      ],
      "metadata": {
        "id": "Mq_5P8hoB4G6"
      }
    },
    {
      "cell_type": "markdown",
      "source": [
        "Installs"
      ],
      "metadata": {
        "id": "OXKg6jK5B7yJ"
      }
    },
    {
      "cell_type": "code",
      "execution_count": null,
      "metadata": {
        "id": "i_uubkvwIWOl"
      },
      "outputs": [],
      "source": [
        "!pip install swig\n",
        "!pip install \"stable-baselines3[extra]>=2.0.0a4\"\n",
        "!pip install box2d-py"
      ]
    },
    {
      "cell_type": "markdown",
      "source": [
        "GPU/CPU"
      ],
      "metadata": {
        "id": "BApEqPlJ6pHr"
      }
    },
    {
      "cell_type": "code",
      "source": [
        "import torch\n",
        "\n",
        "device = torch.device(\"cuda\" if torch.cuda.is_available() else \"cpu\")\n",
        "print(device)"
      ],
      "metadata": {
        "id": "ltDrAr9FXwmx"
      },
      "execution_count": null,
      "outputs": []
    },
    {
      "cell_type": "markdown",
      "source": [
        "**Train**"
      ],
      "metadata": {
        "id": "BrzUcP2GpxgE"
      }
    },
    {
      "cell_type": "markdown",
      "source": [
        "Hyperparameters and Parameters"
      ],
      "metadata": {
        "id": "EUucUqM_YLNu"
      }
    },
    {
      "cell_type": "code",
      "source": [
        "LR = 0.0005\n",
        "BATCH_SIZE= 128\n",
        "BUFFER_SIZE= 50000\n",
        "LEARN_STARTS= 0\n",
        "GAMMA= 0.99\n",
        "TARGET_UPDATE_INTERVAL= 250\n",
        "TRAIN_FREQ= 4\n",
        "\n",
        "total_timesteps = 1000000\n",
        "model_name = \"dqn_lunarlander\""
      ],
      "metadata": {
        "id": "GDvCqxfpYKSw"
      },
      "execution_count": 3,
      "outputs": []
    },
    {
      "cell_type": "markdown",
      "source": [
        "Train"
      ],
      "metadata": {
        "id": "92fCFDVLvQDz"
      }
    },
    {
      "cell_type": "code",
      "source": [
        "import gymnasium as gym\n",
        "from stable_baselines3 import DQN\n",
        "\n",
        "env = gym.make(\"LunarLander-v2\")\n",
        "\n",
        "model = DQN(\"MlpPolicy\", env, learning_rate=LR, buffer_size=BUFFER_SIZE, learning_starts=LEARN_STARTS, batch_size=BATCH_SIZE, gamma=GAMMA, target_update_interval=250, verbose=1, seed=42)\n",
        "model.learn(total_timesteps=total_timesteps, log_interval=4)\n",
        "model.save(model_name)"
      ],
      "metadata": {
        "id": "dan19HfcIjPM"
      },
      "execution_count": null,
      "outputs": []
    },
    {
      "cell_type": "markdown",
      "source": [
        "Download model"
      ],
      "metadata": {
        "id": "ogb8___ULpYb"
      }
    },
    {
      "cell_type": "code",
      "source": [
        "from google.colab import files\n",
        "\n",
        "files.download(f\"{model_name}.zip\")"
      ],
      "metadata": {
        "id": "rEX-gDveDZKX"
      },
      "execution_count": null,
      "outputs": []
    }
  ]
}